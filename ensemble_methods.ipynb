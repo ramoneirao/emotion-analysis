{
 "cells": [
  {
   "cell_type": "markdown",
   "metadata": {},
   "source": [
    "## Emotion analysis and classification of short comments using machine learning techniques\n",
    "+ Code developed by: Douglas Maia dos Santos\n",
    "+ Github acess: https://github.com/m-dougl/emotion-analysis"
   ]
  },
  {
   "cell_type": "markdown",
   "metadata": {},
   "source": [
    "##### Importing libraries for proper code functioning\n",
    "The purpose of this code is to test the impacto of the oversampling function on the models that were implemented in \"main.ipynb\""
   ]
  },
  {
   "cell_type": "code",
   "execution_count": null,
   "metadata": {},
   "outputs": [],
   "source": [
    "from sklearn.svm import SVC\n",
    "from sklearn.naive_bayes import MultinomialNB\n",
    "from sklearn.neighbors import KNeighborsClassifier\n",
    "from sklearn.ensemble import AdaBoostClassifier\n",
    "from xgboost import XGBClassifier\n",
    "from catboost import CatBoostClassifier\n",
    "from sklearn.model_selection import GridSearchCV, train_test_split\n",
    "from sklearn.metrics import accuracy_score, precision_score, recall_score, f1_score, confusion_matrix\n",
    "from sklearn.feature_extraction.text import CountVectorizer, TfidfVectorizer\n",
    "from sklearn.ensemble import VotingClassifier, BaggingClassifier, RandomForestClassifier, GradientBoostingClassifier \n",
    "from sklearn.ensemble import StackingClassifier\n",
    "                              \n",
    "from nltk.tokenize import RegexpTokenizer\n",
    "from collections import Counter\n",
    "from unicodedata import normalize\n",
    "from imblearn.over_sampling import SMOTE\n",
    "import pandas as pd\n",
    "import nltk\n",
    "import numpy as np\n",
    "import string\n",
    "import emotion_analysis\n",
    "import matplotlib.pyplot as plt\n",
    "import seaborn as sns\n",
    "import warnings\n",
    "\n",
    "warnings.filterwarnings('ignore')\n",
    "nltk.download('rslp')\n",
    "nltk.download('stopwords')\n",
    "plt.style.use('seaborn')"
   ]
  },
  {
   "cell_type": "markdown",
   "metadata": {},
   "source": [
    "### Pre processing part"
   ]
  },
  {
   "cell_type": "code",
   "execution_count": null,
   "metadata": {},
   "outputs": [],
   "source": [
    "df = emotion_analysis.open_dataset('dataset.xlsx', 'xlsx')\n",
    "df.Emoção = df.Emoção.str.lower()"
   ]
  },
  {
   "cell_type": "code",
   "execution_count": null,
   "metadata": {},
   "outputs": [],
   "source": [
    "df.Comentarios = df.Comentarios.apply(emotion_analysis.remove_characters)\n",
    "df.Comentarios = df.Comentarios.apply(emotion_analysis.remove_accents)\n",
    "df.Comentarios = df.Comentarios.apply(emotion_analysis.tokenize)\n",
    "df.Comentarios = df.Comentarios.apply(emotion_analysis.remove_stopwords)\n",
    "df.Comentarios = df.Comentarios.apply(emotion_analysis.untokenize)\n",
    "df.Comentarios = df.Comentarios.apply(emotion_analysis.stemming)"
   ]
  },
  {
   "cell_type": "code",
   "execution_count": null,
   "metadata": {},
   "outputs": [],
   "source": [
    "X, y = df.Comentarios, df.Emoção\n",
    "X = emotion_analysis.vectorizer(X, 'tfidf')"
   ]
  },
  {
   "cell_type": "code",
   "execution_count": null,
   "metadata": {},
   "outputs": [],
   "source": [
    "train_size = .8\n",
    "X_train, X_test, y_train, y_test = emotion_analysis.dataset_split(X, y, train_size)"
   ]
  },
  {
   "cell_type": "code",
   "execution_count": null,
   "metadata": {},
   "outputs": [],
   "source": [
    "n_fold = 10\n",
    "NB  = emotion_analysis.cv_train(classifier_name='NB',  X=X_train, y= y_train, n_fold=n_fold)\n",
    "SVM = emotion_analysis.cv_train(classifier_name='SVM', X=X_train, y= y_train, n_fold=n_fold)\n",
    "KNN = emotion_analysis.cv_train(classifier_name='KNN', X=X_train, y= y_train, n_fold=n_fold)\n",
    "'''\n",
    "pred_nb  = NB.predict(X_test)   # Naive Bayes prediction\n",
    "pred_svm = SVM.predict(X_test)  # SVM prediction\n",
    "pred_knn = KNN.predict(X_test)  # KNN prediction\n",
    "'''"
   ]
  },
  {
   "cell_type": "code",
   "execution_count": null,
   "metadata": {},
   "outputs": [],
   "source": [
    "SVM = SVC(C=1000, gamma= 1e-3, kernel = 'rbf').fit(X_train, y_train)\n",
    "NB  = MultinomialNB(alpha = 1, fit_prior= False).fit(X_train, y_train)\n",
    "KNN = KNeighborsClassifier(algorithm='auto', n_neighbors=5).fit(X_train, y_train)\n",
    "estimators = [('svm', SVM),\n",
    "              ('nb', NB),\n",
    "              ('knn', KNN)]"
   ]
  },
  {
   "cell_type": "code",
   "execution_count": null,
   "metadata": {},
   "outputs": [],
   "source": [
    "n_fold = 10\n",
    "ADA = emotion_analysis.cv_train(classifier_name='ADA', X=X_train, y= y_train, n_fold=n_fold)\n",
    "XGB = emotion_analysis.cv_train(classifier_name='XGB', X=X_train, y= y_train, n_fold=n_fold)\n",
    "CAT = emotion_analysis.cv_train(classifier_name='CAT', X=X_train, y= y_train, n_fold=n_fold)"
   ]
  },
  {
   "cell_type": "code",
   "execution_count": null,
   "metadata": {},
   "outputs": [],
   "source": [
    "ADA = AdaBoostClassifier(algorithm='SAMME', learning_rate=0.5).fit(X_train, y_train)\n",
    "XGB  = XGBClassifier(eval_metric='mlogloss', learning_rate=0.1, max_depth=2).fit(X_train, y_train)\n",
    "CAT = CatBoostClassifier(depth=4, iterations=5, learning_rate=0.01).fit(X_train, y_train)\n",
    "estimators2 = [('ada', ADA),\n",
    "              ('xgb', XGB),\n",
    "              ('cat', CAT)]"
   ]
  },
  {
   "cell_type": "markdown",
   "metadata": {},
   "source": [
    "### Ensemble: Votting Classifier"
   ]
  },
  {
   "cell_type": "code",
   "execution_count": null,
   "metadata": {},
   "outputs": [],
   "source": [
    "voting = VotingClassifier(estimators = estimators,\n",
    "                          voting     = 'hard',\n",
    "                          verbose    = True).fit(X_train, y_train)"
   ]
  },
  {
   "cell_type": "code",
   "execution_count": null,
   "metadata": {},
   "outputs": [],
   "source": [
    "pred_voting = voting.predict(X_test)"
   ]
  },
  {
   "cell_type": "code",
   "execution_count": null,
   "metadata": {},
   "outputs": [],
   "source": [
    "accuracy_voting  = accuracy_score(y_test, pred_voting)\n",
    "precision_voting = precision_score(y_test, pred_voting, average='macro')\n",
    "recall_voting    = recall_score(y_test, pred_voting, average='macro')\n",
    "fscore_voting    = f1_score(y_test, pred_voting, average='macro')\n",
    "print('='*20)\n",
    "print('Voting Classifier Metrics:')\n",
    "print(f'Accuracy: {accuracy_voting}')\n",
    "print(f'Precision: {precision_voting}')\n",
    "print(f'Recall: {recall_voting}')\n",
    "print(f'F1-Score: {fscore_voting}')\n",
    "print('='*20)"
   ]
  },
  {
   "cell_type": "markdown",
   "metadata": {},
   "source": [
    "### Ensemble: Bagging Classifier"
   ]
  },
  {
   "cell_type": "code",
   "execution_count": null,
   "metadata": {},
   "outputs": [],
   "source": [
    "# svm\n",
    "bagging_svm = BaggingClassifier(base_estimator = SVM,\n",
    "                            n_estimators   = 500,\n",
    "                            bootstrap=True,\n",
    "                            verbose=True).fit(X_train, y_train)"
   ]
  },
  {
   "cell_type": "code",
   "execution_count": null,
   "metadata": {},
   "outputs": [],
   "source": [
    "# naive bayes\n",
    "bagging_nb = BaggingClassifier(base_estimator = NB,\n",
    "                            n_estimators   = 500,\n",
    "                            bootstrap=True,\n",
    "                            verbose=True).fit(X_train, y_train)"
   ]
  },
  {
   "cell_type": "code",
   "execution_count": null,
   "metadata": {},
   "outputs": [],
   "source": [
    "# knn\n",
    "bagging_knn = BaggingClassifier(base_estimator = KNN,\n",
    "                            n_estimators   = 500,\n",
    "                            bootstrap=True,\n",
    "                            verbose=True).fit(X_train, y_train)"
   ]
  },
  {
   "cell_type": "code",
   "execution_count": null,
   "metadata": {},
   "outputs": [],
   "source": [
    "bagging = [bagging_svm.predict(X_test),\n",
    "           bagging_nb.predict(X_test),\n",
    "           bagging_knn.predict(X_test)]"
   ]
  },
  {
   "cell_type": "code",
   "execution_count": null,
   "metadata": {},
   "outputs": [],
   "source": [
    "bg_accuracy  = []\n",
    "bg_precision = []\n",
    "bg_recall    = []\n",
    "bg_fscore    = []\n",
    "\n",
    "labels = ['bg_SVM', 'bg_NB', 'bg_KNN']\n",
    "for k in range(len(bagging)):\n",
    "    bg_accuracy.append(accuracy_score(y_test, bagging[k]))\n",
    "    bg_precision.append(precision_score(y_test, bagging[k], average = 'macro'))\n",
    "    bg_recall.append(recall_score(y_test, bagging[k], average = 'macro'))\n",
    "    bg_fscore.append(f1_score(y_test, bagging[k], average = 'macro'))\n",
    "print('Bagging Classifiers Metrics:')\n",
    "print('='*40)\n",
    "for k in range(len(bagging)):\n",
    "    print(f'{labels[k]} accuracy: {bg_accuracy[k]}')\n",
    "print('-'*40)\n",
    "for k in range(len(bagging)):\n",
    "    print(f'{labels[k]} Precision: {bg_precision[k]}')\n",
    "print('-'*40)\n",
    "for k in range(len(bagging)):\n",
    "    print(f'{labels[k]} Recall: {bg_recall[k]}')\n",
    "print('-'*40)\n",
    "for k in range(len(bagging)):\n",
    "    print(f'{labels[k]} F1-Score: {bg_fscore[k]}')\n",
    "print('='*40)"
   ]
  },
  {
   "cell_type": "markdown",
   "metadata": {},
   "source": [
    "### Ensemble: RandomForestClassifier"
   ]
  },
  {
   "cell_type": "code",
   "execution_count": null,
   "metadata": {},
   "outputs": [],
   "source": [
    "random_forest = RandomForestClassifier()\n",
    "random_forest.fit(X_train, y_train)\n",
    "\n",
    "rf_predict = random_forest.predict(X_test)\n",
    "\n",
    "accuracy_rf  = accuracy_score(y_test, rf_predict)\n",
    "precision_rf = precision_score(y_test, rf_predict, average='macro')\n",
    "recall_rf    = recall_score(y_test, rf_predict, average='macro')\n",
    "fscore_rf    = f1_score(y_test, rf_predict, average='macro')\n",
    "print('='*20)\n",
    "print('Random Forest Classifier Metrics:')\n",
    "print(f'Accuracy: {accuracy_rf}')\n",
    "print(f'Precision: {precision_rf}')\n",
    "print(f'Recall: {recall_rf}')\n",
    "print(f'F1-Score: {fscore_rf}')\n",
    "print('='*20)"
   ]
  },
  {
   "cell_type": "markdown",
   "metadata": {},
   "source": [
    "### Ensemble: Gradient Tree boosting"
   ]
  },
  {
   "cell_type": "code",
   "execution_count": null,
   "metadata": {},
   "outputs": [],
   "source": [
    "gradient = GradientBoostingClassifier()\n",
    "gradient.fit(X_train, y_train)\n",
    "\n",
    "gradient_predict = gradient.predict(X_test)\n",
    "\n",
    "accuracy_gradient  = accuracy_score(y_test, gradient_predict)\n",
    "precision_gradient = precision_score(y_test, gradient_predict, average='macro')\n",
    "recall_gradient    = recall_score(y_test, gradient_predict, average='macro')\n",
    "fscore_gradient    = f1_score(y_test, gradient_predict, average='macro')\n",
    "print('='*20)\n",
    "print('Gradient Boosting Classifier Metrics:')\n",
    "print(f'Accuracy: {accuracy_gradient}')\n",
    "print(f'Precision: {precision_gradient}')\n",
    "print(f'Recall: {recall_gradient}')\n",
    "print(f'F1-Score: {fscore_gradient}')\n",
    "print('='*20)"
   ]
  },
  {
   "cell_type": "markdown",
   "metadata": {},
   "source": [
    "### Ensemble: Stacking Classifier"
   ]
  },
  {
   "cell_type": "code",
   "execution_count": null,
   "metadata": {},
   "outputs": [],
   "source": [
    "SVM = SVC(C=1000, gamma= 1e-3, kernel = 'rbf').fit(X_train, y_train)\n",
    "NB  = MultinomialNB(alpha = 1, fit_prior= False).fit(X_train, y_train)\n",
    "KNN = KNeighborsClassifier(algorithm='auto', n_neighbors=5).fit(X_train, y_train)\n",
    "estimators = [('svm', SVM),\n",
    "              ('nb', NB),\n",
    "              ('knn', KNN)]"
   ]
  },
  {
   "cell_type": "code",
   "execution_count": null,
   "metadata": {},
   "outputs": [],
   "source": [
    "stacking = StackingClassifier(estimators = estimators,\n",
    "                              final_estimator= GradientBoostingClassifier(),\n",
    "                              verbose    = True).fit(X_train, y_train)\n",
    "\n",
    "pred_stacking = stacking.predict(X_test)\n",
    "\n",
    "accuracy_stacking  = accuracy_score(y_test, pred_stacking)\n",
    "precision_stacking = precision_score(y_test, pred_stacking, average='macro')\n",
    "recall_stacking    = recall_score(y_test, pred_stacking, average='macro')\n",
    "fscore_stacking    = f1_score(y_test, pred_voting, average='macro')\n",
    "print('='*20)\n",
    "print('Stacking Classifier Metrics:')\n",
    "print(f'Accuracy: {accuracy_stacking}')\n",
    "print(f'Precision: {precision_stacking}')\n",
    "print(f'Recall: {recall_stacking}')\n",
    "print(f'F1-Score: {fscore_stacking}')\n",
    "print('='*20)"
   ]
  },
  {
   "cell_type": "markdown",
   "metadata": {},
   "source": [
    "### Neural Network Test"
   ]
  },
  {
   "cell_type": "code",
   "execution_count": null,
   "metadata": {},
   "outputs": [],
   "source": [
    "from sklearn.neural_network import MLPClassifier\n",
    "\n",
    "nn = MLPClassifier(hidden_layer_sizes = (500,5),\n",
    "                   activation         = 'relu',\n",
    "                   solver             = 'adam',\n",
    "                   alpha              = 1e-4,\n",
    "                   batch_size         = 10,\n",
    "                   learning_rate      = 'adaptive',\n",
    "                   verbose            = True)\n",
    "nn.fit(X_train, y_train)"
   ]
  },
  {
   "cell_type": "code",
   "execution_count": null,
   "metadata": {},
   "outputs": [],
   "source": [
    "pred_nn = nn.predict(X_test)"
   ]
  },
  {
   "cell_type": "code",
   "execution_count": null,
   "metadata": {},
   "outputs": [],
   "source": [
    "accuracy_nn  = accuracy_score(y_test, pred_nn)\n",
    "precision_nn = precision_score(y_test, pred_nn, average='macro')\n",
    "recall_nn    = recall_score(y_test, pred_nn, average='macro')\n",
    "fscore_nn    = f1_score(y_test, pred_voting, average='macro')\n",
    "print('='*20)\n",
    "print('nn Classifier Metrics:')\n",
    "print(f'Accuracy: {accuracy_nn}')\n",
    "print(f'Precision: {precision_nn}')\n",
    "print(f'Recall: {recall_nn}')\n",
    "print(f'F1-Score: {fscore_nn}')\n",
    "print('='*20)"
   ]
  },
  {
   "cell_type": "markdown",
   "metadata": {},
   "source": [
    "### Ensemble: Votting Classifier (Adaboost, Catboost e Xgboost)"
   ]
  },
  {
   "cell_type": "code",
   "execution_count": null,
   "metadata": {},
   "outputs": [],
   "source": [
    "voting = VotingClassifier(estimators = estimators2,\n",
    "                          voting     = 'soft',\n",
    "                          verbose    = True).fit(X_train, y_train)"
   ]
  },
  {
   "cell_type": "code",
   "execution_count": null,
   "metadata": {},
   "outputs": [],
   "source": [
    "accuracy_voting  = accuracy_score(y_test, pred_voting)\n",
    "precision_voting = precision_score(y_test, pred_voting, average='macro')\n",
    "recall_voting    = recall_score(y_test, pred_voting, average='macro')\n",
    "fscore_voting    = f1_score(y_test, pred_voting, average='macro')\n",
    "print('='*20)\n",
    "print('Voting Classifier Metrics:')\n",
    "print(f'Accuracy: {accuracy_voting}')\n",
    "print(f'Precision: {precision_voting}')\n",
    "print(f'Recall: {recall_voting}')\n",
    "print(f'F1-Score: {fscore_voting}')\n",
    "print('='*20)"
   ]
  },
  {
   "cell_type": "markdown",
   "metadata": {},
   "source": [
    "### Ensemble: Bagging Classifier (Adaboost, Catboost e Xgboost)"
   ]
  },
  {
   "cell_type": "code",
   "execution_count": null,
   "metadata": {},
   "outputs": [],
   "source": [
    "# adaboost\n",
    "bagging_ada = BaggingClassifier(base_estimator = ADA,\n",
    "                                n_estimators   = 500,\n",
    "                                bootstrap      = True,\n",
    "                                verbose        = True).fit(X_train, y_train)"
   ]
  },
  {
   "cell_type": "code",
   "execution_count": null,
   "metadata": {},
   "outputs": [],
   "source": [
    "# xgboost\n",
    "bagging_xgb = BaggingClassifier(base_estimator = XGB,\n",
    "                                n_estimators   = 500,\n",
    "                                bootstrap      = True,\n",
    "                                verbose        = True).fit(X_train, y_train)"
   ]
  },
  {
   "cell_type": "code",
   "execution_count": null,
   "metadata": {},
   "outputs": [],
   "source": [
    "# catboost\n",
    "bagging_cat = BaggingClassifier(base_estimator = CAT,\n",
    "                                n_estimators   = 5,\n",
    "                                bootstrap      = True,\n",
    "                                verbose        = True).fit(X_train, y_train)"
   ]
  },
  {
   "cell_type": "code",
   "execution_count": null,
   "metadata": {},
   "outputs": [],
   "source": [
    "bagging = [bagging_ada.predict(X_test),\n",
    "           bagging_xgb.predict(X_test),\n",
    "           bagging_cat.predict(X_test)]"
   ]
  },
  {
   "cell_type": "code",
   "execution_count": null,
   "metadata": {},
   "outputs": [],
   "source": [
    "bg_accuracy  = []\n",
    "bg_precision = []\n",
    "bg_recall    = []\n",
    "bg_fscore    = []\n",
    "\n",
    "labels = ['bg_ADA', 'bg_XGB', 'bg_CAT']\n",
    "for k in range(len(bagging)):\n",
    "    bg_accuracy.append(accuracy_score(y_test, bagging[k]))\n",
    "    bg_precision.append(precision_score(y_test, bagging[k], average = 'macro'))\n",
    "    bg_recall.append(recall_score(y_test, bagging[k], average = 'macro'))\n",
    "    bg_fscore.append(f1_score(y_test, bagging[k], average = 'macro'))\n",
    "print('Bagging Classifiers Metrics:')\n",
    "print('='*40)\n",
    "for k in range(len(bagging)):\n",
    "    print(f'{labels[k]} accuracy: {bg_accuracy[k]}')\n",
    "print('-'*40)\n",
    "for k in range(len(bagging)):\n",
    "    print(f'{labels[k]} Precision: {bg_precision[k]}')\n",
    "print('-'*40)\n",
    "for k in range(len(bagging)):\n",
    "    print(f'{labels[k]} Recall: {bg_recall[k]}')\n",
    "print('-'*40)\n",
    "for k in range(len(bagging)):\n",
    "    print(f'{labels[k]} F1-Score: {bg_fscore[k]}')\n",
    "print('='*40)"
   ]
  },
  {
   "cell_type": "markdown",
   "metadata": {},
   "source": [
    "### Ensemble: Stacking Classifier  (Adaboost, Catboost e Xgboost)"
   ]
  },
  {
   "cell_type": "code",
   "execution_count": null,
   "metadata": {},
   "outputs": [],
   "source": [
    "stacking = StackingClassifier(estimators      = estimators2,\n",
    "                              final_estimator = XGBClassifier(eval_metric='mlogloss'),\n",
    "                              verbose         = True).fit(X_train, y_train)\n",
    "\n",
    "pred_stacking = stacking.predict(X_test)\n",
    "\n",
    "accuracy_stacking  = accuracy_score(y_test, pred_stacking)\n",
    "precision_stacking = precision_score(y_test, pred_stacking, average='macro')\n",
    "recall_stacking    = recall_score(y_test, pred_stacking, average='macro')\n",
    "fscore_stacking    = f1_score(y_test, pred_voting, average='macro')\n",
    "print('='*20)\n",
    "print('Stacking Classifier Metrics:')\n",
    "print(f'Accuracy: {accuracy_stacking}')\n",
    "print(f'Precision: {precision_stacking}')\n",
    "print(f'Recall: {recall_stacking}')\n",
    "print(f'F1-Score: {fscore_stacking}')\n",
    "print('='*20)"
   ]
  }
 ],
 "metadata": {
  "kernelspec": {
   "display_name": "Python 3 (ipykernel)",
   "language": "python",
   "name": "python3"
  },
  "language_info": {
   "codemirror_mode": {
    "name": "ipython",
    "version": 3
   },
   "file_extension": ".py",
   "mimetype": "text/x-python",
   "name": "python",
   "nbconvert_exporter": "python",
   "pygments_lexer": "ipython3",
   "version": "3.9.12"
  },
  "vscode": {
   "interpreter": {
    "hash": "775d1c0f935f56092980f8cbca6d6fabf18e7db24d124724005f66c4ac8515ef"
   }
  }
 },
 "nbformat": 4,
 "nbformat_minor": 2
}
