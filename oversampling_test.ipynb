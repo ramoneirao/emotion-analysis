{
 "cells": [
  {
   "cell_type": "markdown",
   "metadata": {},
   "source": [
    "## Emotion analysis and classification of short comments using machine learning techniques\n",
    "+ Code developed by: Douglas Maia dos Santos\n",
    "+ Github acess: https://github.com/\n",
    "+ Colab acess: https://github.com/"
   ]
  },
  {
   "cell_type": "markdown",
   "metadata": {},
   "source": [
    "##### Importing libraries for proper code functioning\n",
    "The purpose of this code is to test the impacto of the oversampling function on the models that were implemented in \"main.ipynb\""
   ]
  },
  {
   "cell_type": "code",
   "execution_count": null,
   "metadata": {},
   "outputs": [],
   "source": [
    "from sklearn.svm import SVC\n",
    "from sklearn.naive_bayes import MultinomialNB\n",
    "from sklearn.neighbors import KNeighborsClassifier\n",
    "from sklearn.model_selection import GridSearchCV, train_test_split\n",
    "from sklearn.metrics import accuracy_score, precision_score, recall_score, f1_score, confusion_matrix\n",
    "from sklearn.feature_extraction.text import CountVectorizer, TfidfVectorizer\n",
    "from nltk.tokenize import RegexpTokenizer\n",
    "from collections import Counter\n",
    "from unicodedata import normalize\n",
    "from imblearn.over_sampling import SMOTE\n",
    "import pandas as pd\n",
    "import nltk\n",
    "import numpy as np\n",
    "import string\n",
    "import emotion_analysis\n",
    "import matplotlib.pyplot as plt\n",
    "import seaborn as sns\n",
    "import warnings\n",
    "\n",
    "warnings.filterwarnings('ignore')\n",
    "nltk.download('rslp')\n",
    "nltk.download('stopwords')\n",
    "plt.style.use('seaborn')"
   ]
  },
  {
   "cell_type": "code",
   "execution_count": null,
   "metadata": {},
   "outputs": [],
   "source": [
    "df = emotion_analysis.open_dataset('dataset.xlsx', 'xlsx')\n",
    "df.Emoção = df.Emoção.str.lower()"
   ]
  },
  {
   "cell_type": "code",
   "execution_count": null,
   "metadata": {},
   "outputs": [],
   "source": [
    "df.Comentarios = df.Comentarios.apply(emotion_analysis.remove_characters)\n",
    "df.Comentarios = df.Comentarios.apply(emotion_analysis.remove_accents)\n",
    "df.Comentarios = df.Comentarios.apply(emotion_analysis.tokenize)\n",
    "df.Comentarios = df.Comentarios.apply(emotion_analysis.remove_stopwords)\n",
    "df.Comentarios = df.Comentarios.apply(emotion_analysis.untokenize)\n",
    "df.Comentarios = df.Comentarios.apply(emotion_analysis.stemming)"
   ]
  },
  {
   "cell_type": "code",
   "execution_count": null,
   "metadata": {},
   "outputs": [],
   "source": [
    "X, y = df.Comentarios, df.Emoção\n",
    "X = emotion_analysis.vectorizer(X, 'tfidf')\n",
    "train_size = .8\n",
    "X_train, X_test, y_train, y_test = emotion_analysis.dataset_split(X, y, train_size)"
   ]
  },
  {
   "cell_type": "code",
   "execution_count": null,
   "metadata": {},
   "outputs": [],
   "source": [
    "oversample = SMOTE(random_state=2)\n",
    "X_train_ressampled, y_train_ressampled, = oversample.fit_resample(X_train, y_train)"
   ]
  },
  {
   "cell_type": "code",
   "execution_count": null,
   "metadata": {},
   "outputs": [],
   "source": [
    "labels =  ['ALEGRIA', 'TRISTEZA', 'SURPRESA']\n",
    "\n",
    "set_ = {'Train': y_train,\n",
    "        'Train_ressampled': y_train_ressampled}\n",
    "train, train_ressample = set_['Train'].value_counts(), set_['Train_ressampled'].value_counts()\n",
    "width = .35\n",
    "fig, axis = plt.subplots(figsize=(10, 6))\n",
    "plt.title(f'Train and test split with {len(y_train)+len(y_test)} comments')\n",
    "rec1 = axis.bar(np.arange(len(labels)) + width/2, train, width, label = 'Train')\n",
    "rec2 = axis.bar(np.arange(len(labels)) - width/2, train_ressample, width,  label = 'Ressample')\n",
    "axis.bar_label(rec1, padding=3)\n",
    "axis.bar_label(rec2, padding=3)\n",
    "plt.xticks(np.arange(len(labels)), labels)\n",
    "plt.legend()\n",
    "plt.show()"
   ]
  },
  {
   "cell_type": "code",
   "execution_count": null,
   "metadata": {},
   "outputs": [],
   "source": [
    "NB  = emotion_analysis.cv_train(classifier_name='NB',  X=X_train_ressampled, y= y_train_ressampled, n_fold=10)\n",
    "SVM = emotion_analysis.cv_train(classifier_name='SVM', X=X_train_ressampled, y= y_train_ressampled, n_fold=10)\n",
    "KNN = emotion_analysis.cv_train(classifier_name='KNN', X=X_train_ressampled, y= y_train_ressampled, n_fold=10)\n",
    "\n",
    "pred_nb  = NB.predict(X_test)   # Naive Bayes prediction\n",
    "pred_svm = SVM.predict(X_test)  # SVM prediction\n",
    "pred_knn = KNN.predict(X_test)  # KNN prediction"
   ]
  },
  {
   "cell_type": "code",
   "execution_count": null,
   "metadata": {
    "scrolled": true
   },
   "outputs": [],
   "source": [
    "list_predict = [pred_nb, pred_svm, pred_knn]\n",
    "models_names = ['NB', 'SVM', 'KNN']\n",
    "'''OBS:\n",
    "        0 = ALEGRIA\n",
    "        1 = SURPRESA\n",
    "        2 = TRISTEZA\n",
    "'''\n",
    "emotion_analysis.confusion_matrix_plot(list_predict = list_predict,\n",
    "                                  models_names = models_names, \n",
    "                                  y_true       = y_test)"
   ]
  },
  {
   "cell_type": "code",
   "execution_count": null,
   "metadata": {},
   "outputs": [],
   "source": [
    "emotion_analysis.metrics_evaluation(models_names=models_names,\n",
    "                   list_predict=list_predict,\n",
    "                   y_true = y_test)"
   ]
  },
  {
   "cell_type": "code",
   "execution_count": null,
   "metadata": {},
   "outputs": [],
   "source": [
    "ADA  = emotion_analysis.cv_train(classifier_name='ADA',  X=X_train_ressampled, y= y_train_ressampled, n_fold=10)\n",
    "XGB = emotion_analysis.cv_train(classifier_name='XGB', X=X_train_ressampled, y= y_train_ressampled, n_fold=10)\n",
    "CAT = emotion_analysis.cv_train(classifier_name='CAT', X=X_train_ressampled, y= y_train_ressampled, n_fold=10)\n",
    "\n",
    "pred_nb  = ADA.predict(X_test)   # ADA prediction\n",
    "pred_svm = XGB.predict(X_test)  # XGB prediction\n",
    "pred_knn = CAT.predict(X_test)  # CAT prediction"
   ]
  },
  {
   "cell_type": "code",
   "execution_count": null,
   "metadata": {},
   "outputs": [],
   "source": [
    "list_predict2 = [pred_nb, pred_svm, pred_knn]\n",
    "models_names = ['ADA', 'XGB', 'CAT']\n",
    "'''OBS:\n",
    "        0 = ALEGRIA\n",
    "        1 = SURPRESA\n",
    "        2 = TRISTEZA\n",
    "'''\n",
    "emotion_analysis.confusion_matrix_plot(list_predict = list_predict2,\n",
    "                                       models_names = models_names, \n",
    "                                       y_true       = y_test)"
   ]
  },
  {
   "cell_type": "code",
   "execution_count": null,
   "metadata": {},
   "outputs": [],
   "source": [
    "emotion_analysis.metrics_evaluation(models_names=models_names,\n",
    "                                    list_predict=list_predict2,\n",
    "                                    y_true = y_test)"
   ]
  }
 ],
 "metadata": {
  "kernelspec": {
   "display_name": "Python 3 (ipykernel)",
   "language": "python",
   "name": "python3"
  },
  "language_info": {
   "codemirror_mode": {
    "name": "ipython",
    "version": 3
   },
   "file_extension": ".py",
   "mimetype": "text/x-python",
   "name": "python",
   "nbconvert_exporter": "python",
   "pygments_lexer": "ipython3",
   "version": "3.9.12"
  },
  "vscode": {
   "interpreter": {
    "hash": "775d1c0f935f56092980f8cbca6d6fabf18e7db24d124724005f66c4ac8515ef"
   }
  }
 },
 "nbformat": 4,
 "nbformat_minor": 2
}
