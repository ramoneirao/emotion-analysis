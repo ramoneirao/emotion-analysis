{
 "cells": [
  {
   "cell_type": "markdown",
   "id": "745b34a4",
   "metadata": {},
   "source": [
    "## Emotion analysis and classification of short comments using machine learning techniques\n",
    "+ Code developed by: Douglas Maia dos Santos\n",
    "+ Github acess: https://github.com/m-dougl/emotion-analysis"
   ]
  },
  {
   "cell_type": "markdown",
   "id": "5e58cfdd",
   "metadata": {},
   "source": [
    "##### Importing libraries for proper code functioning\n",
    "###### OBS: Code depends on functions stored in emotion_analysis.py\n",
    "+ Scikit-Learn or Sklearn: Library that provides the models used for classifications, as well as methods and metrics to evaluate them\n",
    "+ Natural Language Toolkit or NLTK: Library used to perform some text pre-processing steps, such as the removal of stopwords and text tokenization\n",
    "+ Pandas: Library used to organize and manipulate dataset working with objects in the DataFrame format that allows you to visualize changes in an organized way\n",
    "+ Matplotlib and Seaborn: Libraries for graphical visualizations of data\n",
    "+ Emotion_analysis: Python file where all useful functions have been organized to make the task of sorting comments easier"
   ]
  },
  {
   "cell_type": "code",
   "execution_count": null,
   "id": "c286c55d-4f4c-4e5e-abfb-c6d4b7aa67f9",
   "metadata": {},
   "outputs": [],
   "source": [
    "from sklearn.svm import SVC\n",
    "from sklearn.naive_bayes import MultinomialNB\n",
    "from sklearn.neighbors import KNeighborsClassifier\n",
    "from sklearn.model_selection import GridSearchCV, train_test_split\n",
    "from sklearn.metrics import accuracy_score, precision_score, recall_score, f1_score, confusion_matrix\n",
    "from sklearn.feature_extraction.text import CountVectorizer, TfidfVectorizer\n",
    "from nltk.tokenize import RegexpTokenizer\n",
    "from collections import Counter\n",
    "from unicodedata import normalize\n",
    "from sklearn.ensemble import AdaBoostClassifier\n",
    "from xgboost import XGBClassifier\n",
    "from catboost import CatBoostClassifier\n",
    "\n",
    "import pandas as pd\n",
    "import nltk\n",
    "import numpy as np\n",
    "import string\n",
    "import emotion_analysis\n",
    "import matplotlib.pyplot as plt\n",
    "import seaborn as sns\n",
    "import warnings\n",
    "\n",
    "warnings.filterwarnings('ignore')\n",
    "nltk.download('rslp')\n",
    "nltk.download('stopwords')\n",
    "plt.style.use('seaborn')"
   ]
  },
  {
   "cell_type": "markdown",
   "id": "0ed0441d",
   "metadata": {},
   "source": [
    "##### Dataset import and emotion analysis\n",
    "+ Using pandas library stored in function \"open_dataset\" to read dataset\n",
    "+ Pie chart plot to check the predominance of emotions"
   ]
  },
  {
   "cell_type": "code",
   "execution_count": null,
   "id": "ef7c9ae8",
   "metadata": {},
   "outputs": [],
   "source": [
    "df = emotion_analysis.open_dataset('dataset.xlsx', 'xlsx')\n",
    "df.Emoção = df.Emoção.str.lower()"
   ]
  },
  {
   "cell_type": "code",
   "execution_count": null,
   "id": "bba632f1",
   "metadata": {},
   "outputs": [],
   "source": [
    "emotions = Counter(df.Emoção)\n",
    "plt.figure(figsize=(9, 4))\n",
    "plt.title(f'$Distribution $ $of$ $emotions$ $in$ {len(list(df.Emoção))} $comments$')\n",
    "plt.pie(x=emotions.values(), labels=emotions.keys(),\n",
    "        shadow=True, autopct='%1.1f%%')"
   ]
  },
  {
   "cell_type": "markdown",
   "id": "548ed79e",
   "metadata": {},
   "source": [
    "##### Data pre-processing stage\n",
    "+ 1 - Removal of special characters\n",
    "+ 2 - Removal of accents contained in words\n",
    "+ 3 - Text tokenization\n",
    "+ 4 - Removel of stopwords contained in comments\n",
    "+ 5 - Text untokenization\n",
    "+ 6 - Reduction of the word to its root (Stemming)"
   ]
  },
  {
   "cell_type": "code",
   "execution_count": null,
   "id": "bf2a09b9",
   "metadata": {},
   "outputs": [],
   "source": [
    "df.Comentarios = df.Comentarios.apply(emotion_analysis.remove_characters)\n",
    "df.Comentarios = df.Comentarios.apply(emotion_analysis.remove_accents)\n",
    "df.Comentarios = df.Comentarios.apply(emotion_analysis.tokenize)\n",
    "df.Comentarios = df.Comentarios.apply(emotion_analysis.remove_stopwords)\n",
    "df.Comentarios = df.Comentarios.apply(emotion_analysis.untokenize)\n",
    "df.Comentarios = df.Comentarios.apply(emotion_analysis.stemming)"
   ]
  },
  {
   "cell_type": "markdown",
   "id": "7660680a",
   "metadata": {},
   "source": [
    "##### Transformation of comments into a numerical matrix using TFIDF-Vectorizer or CountVectorizer methods\n",
    "Check emotion_analysis file for more information about the parameters of this function"
   ]
  },
  {
   "cell_type": "code",
   "execution_count": null,
   "id": "a8c78176",
   "metadata": {},
   "outputs": [],
   "source": [
    "X, y = df.Comentarios, df.Emoção\n",
    "X = emotion_analysis.vectorizer(X, 'tfidf')"
   ]
  },
  {
   "cell_type": "markdown",
   "id": "6b1dcee4",
   "metadata": {},
   "source": [
    "##### Separation of the amout of training and test data\n",
    "The variable X stores the numerical matrix and the variable y stores the emotions of the dataset. In this case, we choose the proportion of 80% data for training and 20% for testing our models, these values can be freely tested by user\n",
    "+ If you choose to use the \"simple_train\" function, the models will be trained without parameter optimization of the GridSearchCV\n",
    "+ If you choose to use the \"cv_train\" models will be trained taking cross-validation into account"
   ]
  },
  {
   "cell_type": "code",
   "execution_count": null,
   "id": "be9175d2",
   "metadata": {},
   "outputs": [],
   "source": [
    "train_size = .8\n",
    "X_train, X_test, y_train, y_test = emotion_analysis.dataset_split(X, y, train_size)"
   ]
  },
  {
   "cell_type": "code",
   "execution_count": null,
   "id": "f92076d6",
   "metadata": {},
   "outputs": [],
   "source": [
    "labels =  ['ALEGRIA', 'TRISTEZA', 'SURPRESA']\n",
    "emotion_analysis.emotion_plot(y_train, y_test, emotions)"
   ]
  },
  {
   "cell_type": "code",
   "execution_count": null,
   "id": "0b59c1fc",
   "metadata": {},
   "outputs": [],
   "source": [
    "n_fold = 10\n",
    "NB  = emotion_analysis.cv_train(classifier_name='NB',  X=X_train, y= y_train, n_fold=n_fold)\n",
    "SVM = emotion_analysis.cv_train(classifier_name='SVM', X=X_train, y= y_train, n_fold=n_fold)\n",
    "KNN = emotion_analysis.cv_train(classifier_name='KNN', X=X_train, y= y_train, n_fold=n_fold)\n",
    "\n",
    "pred_nb  = NB.predict(X_test)   # Naive Bayes prediction\n",
    "pred_svm = SVM.predict(X_test)  # SVM prediction\n",
    "pred_knn = KNN.predict(X_test)  # KNN prediction"
   ]
  },
  {
   "cell_type": "code",
   "execution_count": null,
   "id": "c3a52e38",
   "metadata": {},
   "outputs": [],
   "source": [
    "ADA = emotion_analysis.cv_train(classifier_name='ADA', X=X_train, y= y_train, n_fold=n_fold)\n",
    "XGB = emotion_analysis.cv_train(classifier_name='XGB', X=X_train, y= y_train, n_fold=n_fold)\n",
    "CAT = emotion_analysis.cv_train(classifier_name='CAT', X=X_train, y= y_train, n_fold=n_fold)\n",
    "\n",
    "pred_ada = ADA.predict(X_test)  # ADA prediction\n",
    "pred_xgb = XGB.predict(X_test)  # XGB prediction\n",
    "pred_cat = CAT.predict(X_test)  # CAT prediction"
   ]
  },
  {
   "cell_type": "markdown",
   "id": "f0edb597",
   "metadata": {},
   "source": [
    "##### Evaluating the models\n",
    "+ Confusion Matrix\n",
    "+ Accuracy\n",
    "+ Precision\n",
    "+ Recall \n",
    "+ F1-Score\n",
    "+ AUC Score"
   ]
  },
  {
   "cell_type": "markdown",
   "id": "51d41e18",
   "metadata": {},
   "source": [
    "+ Confusion Matrix"
   ]
  },
  {
   "cell_type": "code",
   "execution_count": null,
   "id": "3e892e50",
   "metadata": {},
   "outputs": [],
   "source": [
    "list_predict = [pred_nb, pred_svm, pred_knn, pred_ada,pred_xgb, pred_cat]\n",
    "models_names = ['NB', 'SVM', 'KNN', 'ADA','XGB', 'CAT']\n",
    "'''OBS:\n",
    "        0 = ALEGRIA\n",
    "        1 = SURPRESA\n",
    "        2 = TRISTEZA\n",
    "'''\n",
    "emotion_analysis.confusion_matrix_plot(list_predict = list_predict,\n",
    "                                  models_names = models_names, \n",
    "                                  y_true       = y_test)"
   ]
  },
  {
   "cell_type": "markdown",
   "id": "0da39ad3",
   "metadata": {},
   "source": [
    "+ Accuracy, Precision, Recall and F1-Score"
   ]
  },
  {
   "cell_type": "code",
   "execution_count": null,
   "id": "ecafc32b",
   "metadata": {},
   "outputs": [],
   "source": [
    "emotion_analysis.metrics_evaluation(models_names=models_names,\n",
    "                   list_predict=list_predict,\n",
    "                   y_true = y_test)"
   ]
  }
 ],
 "metadata": {
  "kernelspec": {
   "display_name": "Python 3 (ipykernel)",
   "language": "python",
   "name": "python3"
  },
  "language_info": {
   "codemirror_mode": {
    "name": "ipython",
    "version": 3
   },
   "file_extension": ".py",
   "mimetype": "text/x-python",
   "name": "python",
   "nbconvert_exporter": "python",
   "pygments_lexer": "ipython3",
   "version": "3.9.12"
  },
  "vscode": {
   "interpreter": {
    "hash": "775d1c0f935f56092980f8cbca6d6fabf18e7db24d124724005f66c4ac8515ef"
   }
  }
 },
 "nbformat": 4,
 "nbformat_minor": 5
}
